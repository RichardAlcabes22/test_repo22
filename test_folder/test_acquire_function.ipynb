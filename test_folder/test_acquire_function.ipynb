{
 "cells": [
  {
   "cell_type": "code",
   "execution_count": 1,
   "id": "2ac20759",
   "metadata": {},
   "outputs": [],
   "source": [
    "from bs4 import BeautifulSoup\n",
    "import requests\n",
    "import os\n",
    "import pandas as pd\n",
    "import re"
   ]
  },
  {
   "cell_type": "code",
   "execution_count": 2,
   "id": "bc6332c9",
   "metadata": {},
   "outputs": [
    {
     "data": {
      "text/plain": [
       "<Response [200]>"
      ]
     },
     "execution_count": 2,
     "metadata": {},
     "output_type": "execute_result"
    }
   ],
   "source": [
    "url = 'https://www.pro-football-reference.com/boxscores/202109120nor.htm'\n",
    "response = requests.get(url)\n",
    "response"
   ]
  },
  {
   "cell_type": "markdown",
   "id": "fd0fc730",
   "metadata": {},
   "source": [
    "- 1 SOUP\n",
    "- 2 div_grid [0]\n",
    "- 3 div [0]\n",
    "- 4 div_wrap [0]\n",
    "- 5 soup_wrap4 [4]\n",
    "- 6 soup4 : reparse soup_wrap4\n",
    "- 7 wx"
   ]
  },
  {
   "cell_type": "code",
   "execution_count": 3,
   "id": "bc7a07c7",
   "metadata": {},
   "outputs": [],
   "source": [
    "#1\n",
    "soup = BeautifulSoup(response.content, 'html.parser')\n",
    "#2\n",
    "div_grid = soup.find_all('div', class_='content_grid')[0]\n",
    "#3\n",
    "div = div_grid.find_all('div')[0]\n",
    "#4\n",
    "div_wrap = div.find_all('div')[0]\n",
    "#5\n",
    "soup_wrap4 = div_wrap.contents[4]\n",
    "#6\n",
    "soup4 = BeautifulSoup(soup_wrap4, 'html.parser')\n",
    "#7\n",
    "wx = soup4.find_all('td','center')[6]"
   ]
  },
  {
   "cell_type": "code",
   "execution_count": 6,
   "id": "d89efa19",
   "metadata": {},
   "outputs": [
    {
     "data": {
      "text/plain": [
       "['86 degrees, relative humidity 57%, wind 9 mph']"
      ]
     },
     "execution_count": 6,
     "metadata": {},
     "output_type": "execute_result"
    }
   ],
   "source": [
    "wx.contents"
   ]
  },
  {
   "cell_type": "code",
   "execution_count": 7,
   "id": "b9cef832",
   "metadata": {},
   "outputs": [
    {
     "data": {
      "text/plain": [
       "'86 degrees, relative humidity 57%, wind 9 mph'"
      ]
     },
     "execution_count": 7,
     "metadata": {},
     "output_type": "execute_result"
    }
   ],
   "source": [
    "wx.contents[0]"
   ]
  },
  {
   "cell_type": "code",
   "execution_count": 11,
   "id": "a7b8bbb1",
   "metadata": {},
   "outputs": [],
   "source": [
    "content = wx.contents[0]"
   ]
  },
  {
   "cell_type": "markdown",
   "id": "85f93d68",
   "metadata": {},
   "source": [
    "## So now we have options..."
   ]
  },
  {
   "cell_type": "code",
   "execution_count": null,
   "id": "d9d42960",
   "metadata": {},
   "outputs": [],
   "source": [
    "# regex to return numerical string at start of object\n",
    "temp = r'^\\d{1,2}'\n",
    "re.findall(temp,content)"
   ]
  },
  {
   "cell_type": "code",
   "execution_count": 13,
   "id": "ed75d9a3",
   "metadata": {},
   "outputs": [],
   "source": [
    "wind = r'\\d{1,2}[\\smph]'\n",
    "# etc...."
   ]
  },
  {
   "cell_type": "markdown",
   "id": "27b6afbc",
   "metadata": {},
   "source": [
    "## Or, a different approach"
   ]
  },
  {
   "cell_type": "code",
   "execution_count": 12,
   "id": "e6685c50",
   "metadata": {},
   "outputs": [
    {
     "data": {
      "text/plain": [
       "['86', '57', '9']"
      ]
     },
     "execution_count": 12,
     "metadata": {},
     "output_type": "execute_result"
    }
   ],
   "source": [
    "wx_digits = r'\\d{1,2}'\n",
    "re.findall(wx_digits,content)"
   ]
  },
  {
   "cell_type": "code",
   "execution_count": null,
   "id": "fd0fb7f4",
   "metadata": {},
   "outputs": [],
   "source": []
  },
  {
   "cell_type": "code",
   "execution_count": 15,
   "id": "ff996a6b",
   "metadata": {},
   "outputs": [
    {
     "data": {
      "text/plain": [
       "'86'"
      ]
     },
     "execution_count": 15,
     "metadata": {},
     "output_type": "execute_result"
    }
   ],
   "source": [
    "re.findall(wx_digits,content)[0]"
   ]
  },
  {
   "cell_type": "code",
   "execution_count": 16,
   "id": "922c46da",
   "metadata": {},
   "outputs": [
    {
     "data": {
      "text/plain": [
       "'57'"
      ]
     },
     "execution_count": 16,
     "metadata": {},
     "output_type": "execute_result"
    }
   ],
   "source": [
    "re.findall(wx_digits,content)[1]"
   ]
  },
  {
   "cell_type": "code",
   "execution_count": 17,
   "id": "122ac807",
   "metadata": {},
   "outputs": [
    {
     "data": {
      "text/plain": [
       "'9'"
      ]
     },
     "execution_count": 17,
     "metadata": {},
     "output_type": "execute_result"
    }
   ],
   "source": [
    "re.findall(wx_digits,content)[2]"
   ]
  },
  {
   "cell_type": "code",
   "execution_count": null,
   "id": "b5774f60",
   "metadata": {},
   "outputs": [],
   "source": []
  },
  {
   "cell_type": "code",
   "execution_count": null,
   "id": "e8e84cb9",
   "metadata": {},
   "outputs": [],
   "source": []
  }
 ],
 "metadata": {
  "kernelspec": {
   "display_name": "Python 3 (ipykernel)",
   "language": "python",
   "name": "python3"
  },
  "language_info": {
   "codemirror_mode": {
    "name": "ipython",
    "version": 3
   },
   "file_extension": ".py",
   "mimetype": "text/x-python",
   "name": "python",
   "nbconvert_exporter": "python",
   "pygments_lexer": "ipython3",
   "version": "3.9.13"
  }
 },
 "nbformat": 4,
 "nbformat_minor": 5
}
